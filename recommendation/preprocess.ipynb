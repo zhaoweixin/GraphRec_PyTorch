{
 "cells": [
  {
   "cell_type": "code",
   "execution_count": 100,
   "metadata": {},
   "outputs": [],
   "source": [
    "import random\n",
    "import numpy as np\n",
    "import pandas as pd\n",
    "from tqdm import tqdm\n",
    "import math\n",
    "random.seed(1234)\n",
    "import pickle\n",
    "workdir = '../datasets/'\n",
    "args = {'test_prop': 0.1, 'dataset': 'Gowalla'}\n",
    "# from pandarallel import pandarallel\n",
    "# pandarallel.initialize(nb_workers=20)"
   ]
  },
  {
   "cell_type": "code",
   "execution_count": 101,
   "metadata": {},
   "outputs": [],
   "source": [
    "click_f = pd.read_table(workdir + 'Gowalla/Gowalla_totalCheckins.txt', sep='\\t', names=['uid', 'check_time', 'lat', 'lng', 'locid'])\n",
    "trust_f = pd.read_table(workdir + 'Gowalla/Gowalla_edges.txt', sep='\\t', names=['uid', 'fid'])\n",
    "click_f['rating'] = 1\n",
    "#calculate rating by geo voting\n",
    "#calculate rating by geo voting"
   ]
  },
  {
   "cell_type": "code",
   "execution_count": 102,
   "metadata": {},
   "outputs": [],
   "source": [
    "def rating_place(item_uni):\n",
    "    #如果去的地方小于5个，那就按照54321的逆序评分给定分数\n",
    "    #如果去的地方大于5个，按照去的地方个数平分评分\n",
    "    RATING_COUNT = 5\n",
    "    TRANSFER_POSITION = 2\n",
    "    # 2是为了移动索引位置: [2 3 3 4 5 5 0 0] -> [1 1 2 3 3 4 5 5]\n",
    "    rating = np.zeros_like(item_uni, dtype=int)\n",
    "    if len(item_uni) <= RATING_COUNT:\n",
    "        last_item = item_uni[-1] + 1\n",
    "        scores = 6\n",
    "        for i in range(len(rating)):\n",
    "            rating_ind = len(rating) - i - 1\n",
    "            if item_uni[rating_ind] != last_item:\n",
    "                scores = scores - 1\n",
    "                rating[rating_ind] = scores\n",
    "            elif item_uni[rating_ind] == last_item:\n",
    "                rating[rating_ind] = rating[rating_ind + 1]\n",
    "            last_item = item_uni[rating_ind]\n",
    "    if len(item_uni) > RATING_COUNT:\n",
    "        last_ind = 0\n",
    "        for i in range(5):\n",
    "            now_ind = math.floor(i * len(item_uni) / RATING_COUNT) + TRANSFER_POSITION\n",
    "            rating[last_ind:now_ind] = i+1\n",
    "            last_ind = now_ind\n",
    "    return dict(zip(item_uni, rating))"
   ]
  },
  {
   "cell_type": "code",
   "execution_count": 97,
   "metadata": {},
   "outputs": [
    {
     "name": "stdout",
     "output_type": "stream",
     "text": [
      "len(item_uni): 5\n",
      "rating: [0 0 0 0 0]\n",
      "count, rating\n",
      "去了count item 次的给rating item 分\n",
      "{1: 1, 2: 2, 3: 3, 5: 4, 21: 5}\n"
     ]
    }
   ],
   "source": [
    "example_locid = click_f.loc[click_f['uid']==7]['locid'].tolist()\n",
    "(uniq, freq) = (np.unique(example_locid, return_counts=True))\n",
    "# 定位id及次数\n",
    "(item_uni, freq_uni) = np.unique(freq, return_counts=True)\n",
    "# 次数频率统计\n",
    "dict_rating = rating_place(item_uni)\n",
    "print('count, rating\\n去了count item 次的给rating item 分')\n",
    "print(dict_rating)\n",
    "dict_loctorating = dict(zip(uniq, [dict_rating[v] for v in freq]))"
   ]
  },
  {
   "cell_type": "code",
   "execution_count": 46,
   "metadata": {},
   "outputs": [
    {
     "data": {
      "text/plain": [
       "(array([0, 1, 2, 3, 4, 5]),\n",
       " array([ 860076, 2090828,  770323,  812504,  854447, 1054714], dtype=int64))"
      ]
     },
     "execution_count": 46,
     "metadata": {},
     "output_type": "execute_result"
    }
   ],
   "source": [
    "_data = pd.read_csv('../datasets/Gowalla/Gowalla_rating.csv')"
   ]
  },
  {
   "cell_type": "code",
   "execution_count": 68,
   "metadata": {},
   "outputs": [],
   "source": [
    "# click_f.loc[click_f['uid']==0, 'rating'] = click_f.loc[click_f['uid']==0].parallel_apply(lambda r: dict_loctorating[r['locid']], axis=1)\n",
    "click_f.loc[click_f['uid']==10, 'rating'] = click_f.loc[click_f['uid']==10].apply(lambda r: dict_loctorating[r['locid']], axis=1)"
   ]
  },
  {
   "cell_type": "code",
   "execution_count": null,
   "metadata": {},
   "outputs": [],
   "source": [
    "unique_uid = np.unique(click_f['uid'].tolist())\n",
    "\n",
    "for uid_ind in tqdm(range(len(unique_uid))):\n",
    "    uid = unique_uid[uid_ind]\n",
    "    example_locid = click_f.loc[click_f['uid']==uid]['locid'].tolist()\n",
    "    (uniq, freq) = (np.unique(example_locid, return_counts=True))\n",
    "    # 定位id及次数\n",
    "    (item_uni, freq_uni) = np.unique(freq, return_counts=True)\n",
    "    # 次数频率统计\n",
    "    dict_rating = rating_place(item_uni)\n",
    "    dict_loctorating = dict(zip(uniq, [dict_rating[v] for v in freq]))\n",
    "    # click_f.loc[click_f['uid']==uid, 'rating'] = click_f.loc[click_f['uid']==uid].parallel_apply(lambda r: dict_loctorating[r['locid']], axis=1)\n",
    "    click_f.loc[click_f['uid']==uid, 'rating'] = click_f.loc[click_f['uid']==uid].apply(lambda r: dict_loctorating[r['locid']], axis=1)\n",
    "    del dict_loctorating\n",
    "\n",
    "click_f.to_csv('../datasets/Gowalla/Gowalla_rating.csv', index=False)"
   ]
  },
  {
   "cell_type": "code",
   "execution_count": 6,
   "metadata": {},
   "outputs": [],
   "source": [
    "import zipfile, os\n",
    "def file2zip(zip_file_name: str, file_names: list):\n",
    "    with zipfile.ZipFile(zip_file_name, mode='w', compression=zipfile.ZIP_DEFLATED) as zf:\n",
    "        for fn in file_names:\n",
    "            parent_path, name = os.path.split(fn)\n",
    "            zf.write(fn, arcname=name)\n",
    "\n",
    "def zip2file(zip_file_name:str, extract_path: str, members=None, pwd=None):\n",
    "    with zipfile.ZipFile(zip_file_name) as zf:\n",
    "        zf.extractall(extract_path, members=members, pwd=pwd)\n",
    "\n",
    "zip_name = '../datasets/Gowalla/Gowalla_rating.zip'\n",
    "files = ['../datasets/Gowalla/Gowalla_rating.csv']\n",
    "file2zip(zip_name, files)"
   ]
  },
  {
   "cell_type": "code",
   "execution_count": 86,
   "metadata": {},
   "outputs": [],
   "source": [
    "click_f = pd.read_csv(workdir + 'Gowalla/Gowalla_rating.csv')\n",
    "trust_f = pd.read_table(workdir + 'Gowalla/Gowalla_edges.txt', sep='\\t', names=['uid', 'fid'])"
   ]
  },
  {
   "cell_type": "code",
   "execution_count": 87,
   "metadata": {},
   "outputs": [
    {
     "data": {
      "text/html": [
       "<div>\n",
       "<style scoped>\n",
       "    .dataframe tbody tr th:only-of-type {\n",
       "        vertical-align: middle;\n",
       "    }\n",
       "\n",
       "    .dataframe tbody tr th {\n",
       "        vertical-align: top;\n",
       "    }\n",
       "\n",
       "    .dataframe thead th {\n",
       "        text-align: right;\n",
       "    }\n",
       "</style>\n",
       "<table border=\"1\" class=\"dataframe\">\n",
       "  <thead>\n",
       "    <tr style=\"text-align: right;\">\n",
       "      <th></th>\n",
       "      <th>uid</th>\n",
       "      <th>check_time</th>\n",
       "      <th>lat</th>\n",
       "      <th>lng</th>\n",
       "      <th>locid</th>\n",
       "      <th>rating</th>\n",
       "    </tr>\n",
       "  </thead>\n",
       "  <tbody>\n",
       "    <tr>\n",
       "      <th>2612</th>\n",
       "      <td>7</td>\n",
       "      <td>2010-10-20T18:52:30Z</td>\n",
       "      <td>30.269103</td>\n",
       "      <td>-97.749395</td>\n",
       "      <td>420315</td>\n",
       "      <td>0</td>\n",
       "    </tr>\n",
       "    <tr>\n",
       "      <th>2613</th>\n",
       "      <td>7</td>\n",
       "      <td>2010-10-20T15:37:34Z</td>\n",
       "      <td>30.269103</td>\n",
       "      <td>-97.749395</td>\n",
       "      <td>420315</td>\n",
       "      <td>0</td>\n",
       "    </tr>\n",
       "    <tr>\n",
       "      <th>2614</th>\n",
       "      <td>7</td>\n",
       "      <td>2010-10-19T18:41:01Z</td>\n",
       "      <td>30.267910</td>\n",
       "      <td>-97.749312</td>\n",
       "      <td>21714</td>\n",
       "      <td>0</td>\n",
       "    </tr>\n",
       "    <tr>\n",
       "      <th>2615</th>\n",
       "      <td>7</td>\n",
       "      <td>2010-10-19T15:14:33Z</td>\n",
       "      <td>30.269103</td>\n",
       "      <td>-97.749395</td>\n",
       "      <td>420315</td>\n",
       "      <td>0</td>\n",
       "    </tr>\n",
       "    <tr>\n",
       "      <th>2616</th>\n",
       "      <td>7</td>\n",
       "      <td>2010-10-19T01:46:04Z</td>\n",
       "      <td>30.275791</td>\n",
       "      <td>-97.752572</td>\n",
       "      <td>59824</td>\n",
       "      <td>0</td>\n",
       "    </tr>\n",
       "    <tr>\n",
       "      <th>...</th>\n",
       "      <td>...</td>\n",
       "      <td>...</td>\n",
       "      <td>...</td>\n",
       "      <td>...</td>\n",
       "      <td>...</td>\n",
       "      <td>...</td>\n",
       "    </tr>\n",
       "    <tr>\n",
       "      <th>6442402</th>\n",
       "      <td>196488</td>\n",
       "      <td>2010-10-03T09:08:30Z</td>\n",
       "      <td>51.979823</td>\n",
       "      <td>8.483964</td>\n",
       "      <td>1129217</td>\n",
       "      <td>0</td>\n",
       "    </tr>\n",
       "    <tr>\n",
       "      <th>6442403</th>\n",
       "      <td>196488</td>\n",
       "      <td>2010-10-03T09:07:45Z</td>\n",
       "      <td>51.979726</td>\n",
       "      <td>8.479257</td>\n",
       "      <td>4730040</td>\n",
       "      <td>0</td>\n",
       "    </tr>\n",
       "    <tr>\n",
       "      <th>6442404</th>\n",
       "      <td>196488</td>\n",
       "      <td>2010-10-03T09:07:31Z</td>\n",
       "      <td>51.980387</td>\n",
       "      <td>8.477926</td>\n",
       "      <td>4197024</td>\n",
       "      <td>0</td>\n",
       "    </tr>\n",
       "    <tr>\n",
       "      <th>6442405</th>\n",
       "      <td>196488</td>\n",
       "      <td>2010-10-01T15:29:07Z</td>\n",
       "      <td>51.979726</td>\n",
       "      <td>8.479257</td>\n",
       "      <td>4730040</td>\n",
       "      <td>0</td>\n",
       "    </tr>\n",
       "    <tr>\n",
       "      <th>6442406</th>\n",
       "      <td>196488</td>\n",
       "      <td>2010-10-01T15:28:41Z</td>\n",
       "      <td>51.980387</td>\n",
       "      <td>8.477926</td>\n",
       "      <td>4197024</td>\n",
       "      <td>0</td>\n",
       "    </tr>\n",
       "  </tbody>\n",
       "</table>\n",
       "<p>860076 rows × 6 columns</p>\n",
       "</div>"
      ],
      "text/plain": [
       "            uid            check_time        lat        lng    locid  rating\n",
       "2612          7  2010-10-20T18:52:30Z  30.269103 -97.749395   420315       0\n",
       "2613          7  2010-10-20T15:37:34Z  30.269103 -97.749395   420315       0\n",
       "2614          7  2010-10-19T18:41:01Z  30.267910 -97.749312    21714       0\n",
       "2615          7  2010-10-19T15:14:33Z  30.269103 -97.749395   420315       0\n",
       "2616          7  2010-10-19T01:46:04Z  30.275791 -97.752572    59824       0\n",
       "...         ...                   ...        ...        ...      ...     ...\n",
       "6442402  196488  2010-10-03T09:08:30Z  51.979823   8.483964  1129217       0\n",
       "6442403  196488  2010-10-03T09:07:45Z  51.979726   8.479257  4730040       0\n",
       "6442404  196488  2010-10-03T09:07:31Z  51.980387   8.477926  4197024       0\n",
       "6442405  196488  2010-10-01T15:29:07Z  51.979726   8.479257  4730040       0\n",
       "6442406  196488  2010-10-01T15:28:41Z  51.980387   8.477926  4197024       0\n",
       "\n",
       "[860076 rows x 6 columns]"
      ]
     },
     "execution_count": 87,
     "metadata": {},
     "output_type": "execute_result"
    }
   ],
   "source": [
    "click_f.loc[click_f['rating'] == 0]"
   ]
  },
  {
   "cell_type": "code",
   "execution_count": 32,
   "metadata": {},
   "outputs": [
    {
     "data": {
      "text/plain": [
       "(array([0, 1, 2, 3, 4, 5]),\n",
       " array([ 860076, 2090828,  770323,  812504,  854447, 1054714], dtype=int64))"
      ]
     },
     "execution_count": 32,
     "metadata": {},
     "output_type": "execute_result"
    }
   ],
   "source": [
    "np.unique(click_f['rating'].values.tolist(), return_counts=True)"
   ]
  },
  {
   "cell_type": "code",
   "execution_count": 21,
   "metadata": {},
   "outputs": [],
   "source": [
    "click_f = click_f[['uid', 'locid', 'rating']]\n",
    "click_f_uid = click_f['uid'].values.tolist()\n",
    "click_f_locid = click_f['locid'].values.tolist()\n",
    "click_f_rating = click_f['rating'].values.tolist()\n",
    "click_list = []\n",
    "trust_list = []\n",
    "\n",
    "u_items_list = []\n",
    "u_users_list = []\n",
    "u_users_items_list = []\n",
    "i_users_list = []\n",
    "\n",
    "user_count = 0\n",
    "item_count = 0\n",
    "rate_count = 0"
   ]
  },
  {
   "cell_type": "code",
   "execution_count": 22,
   "metadata": {},
   "outputs": [
    {
     "name": "stderr",
     "output_type": "stream",
     "text": [
      "100%|██████████| 6442892/6442892 [00:06<00:00, 1057942.68it/s]\n"
     ]
    }
   ],
   "source": [
    "for i in tqdm(range(len(click_f))):\n",
    "\tuid = click_f_uid[i]\n",
    "\tiid = click_f_locid[i]\n",
    "\tlabel = click_f_rating[i]\n",
    "\n",
    "\tif uid > user_count:\n",
    "\t\tuser_count = uid\n",
    "\tif iid > item_count:\n",
    "\t\titem_count = iid\n",
    "\tif label > rate_count:\n",
    "\t\trate_count = label\n",
    "\tclick_list.append([uid, iid, label])"
   ]
  },
  {
   "cell_type": "code",
   "execution_count": 25,
   "metadata": {},
   "outputs": [
    {
     "name": "stderr",
     "output_type": "stream",
     "text": [
      "100%|██████████| 6442892/6442892 [00:02<00:00, 2776665.27it/s]\n"
     ]
    },
    {
     "name": "stdout",
     "output_type": "stream",
     "text": [
      "Train samples: 3185068, Valid samples: 398133, Test samples: 398133\n"
     ]
    },
    {
     "name": "stderr",
     "output_type": "stream",
     "text": [
      "100%|██████████| 196586/196586 [10:36<00:00, 309.07it/s]\n",
      "100%|██████████| 5977758/5977758 [5:14:19<00:00, 316.96it/s]   \n"
     ]
    },
    {
     "ename": "TypeError",
     "evalue": "'>' not supported between instances of 'str' and 'int'",
     "output_type": "error",
     "traceback": [
      "\u001b[1;31m---------------------------------------------------------------------------\u001b[0m",
      "\u001b[1;31mTypeError\u001b[0m                                 Traceback (most recent call last)",
      "\u001b[1;32m~\\AppData\\Local\\Temp\\ipykernel_24460\\2921398919.py\u001b[0m in \u001b[0;36m<module>\u001b[1;34m\u001b[0m\n\u001b[0;32m     47\u001b[0m         \u001b[0muid\u001b[0m \u001b[1;33m=\u001b[0m \u001b[0ms\u001b[0m\u001b[1;33m[\u001b[0m\u001b[1;36m0\u001b[0m\u001b[1;33m]\u001b[0m\u001b[1;33m\u001b[0m\u001b[0m\n\u001b[0;32m     48\u001b[0m         \u001b[0mfid\u001b[0m \u001b[1;33m=\u001b[0m \u001b[0ms\u001b[0m\u001b[1;33m[\u001b[0m\u001b[1;36m1\u001b[0m\u001b[1;33m]\u001b[0m\u001b[1;33m\u001b[0m\u001b[0m\n\u001b[1;32m---> 49\u001b[1;33m         \u001b[1;32mif\u001b[0m \u001b[0muid\u001b[0m \u001b[1;33m>\u001b[0m \u001b[0muser_count\u001b[0m \u001b[1;32mor\u001b[0m \u001b[0mfid\u001b[0m \u001b[1;33m>\u001b[0m \u001b[0muser_count\u001b[0m\u001b[1;33m:\u001b[0m\u001b[1;33m\u001b[0m\u001b[0m\n\u001b[0m\u001b[0;32m     50\u001b[0m                 \u001b[1;32mcontinue\u001b[0m\u001b[1;33m\u001b[0m\u001b[0m\n\u001b[0;32m     51\u001b[0m         \u001b[0mtrust_list\u001b[0m\u001b[1;33m.\u001b[0m\u001b[0mappend\u001b[0m\u001b[1;33m(\u001b[0m\u001b[1;33m[\u001b[0m\u001b[0muid\u001b[0m\u001b[1;33m,\u001b[0m \u001b[0mfid\u001b[0m\u001b[1;33m]\u001b[0m\u001b[1;33m)\u001b[0m\u001b[1;33m\u001b[0m\u001b[0m\n",
      "\u001b[1;31mTypeError\u001b[0m: '>' not supported between instances of 'str' and 'int'"
     ]
    }
   ],
   "source": [
    "pos_list = []\n",
    "for i in tqdm(range(len(click_list))):\n",
    "\tpos_list.append((click_list[i][0], click_list[i][1], click_list[i][2]))\n",
    "pos_list = list(set(pos_list))\n",
    "\n",
    "# train, valid and test data split\n",
    "random.shuffle(pos_list)\n",
    "num_test = int(len(pos_list) * args['test_prop'])\n",
    "test_set = pos_list[:num_test]\n",
    "valid_set = pos_list[num_test:2 * num_test]\n",
    "train_set = pos_list[2 * num_test:]\n",
    "print('Train samples: {}, Valid samples: {}, Test samples: {}'.format(len(train_set), len(valid_set), len(test_set)))\n",
    "train_df = pd.DataFrame(train_set, columns = ['uid', 'iid', 'label'])\n",
    "valid_df = pd.DataFrame(valid_set, columns = ['uid', 'iid', 'label'])\n",
    "test_df = pd.DataFrame(test_set, columns = ['uid', 'iid', 'label'])\n",
    "\n",
    "click_df = pd.DataFrame(click_list, columns = ['uid', 'iid', 'label'])\n",
    "train_df = train_df.sort_values(axis = 0, ascending = True, by = 'uid')\n",
    "\n",
    "\"\"\"\n",
    "u_items_list: 存储每个用户交互过的物品iid和对应的评分，没有则为[(0, 0)]\n",
    "\"\"\"\n",
    "for u in tqdm(range(user_count + 1)):\n",
    "\thist = train_df[train_df['uid'] == u]\n",
    "\tu_items = hist['iid'].tolist()\n",
    "\tu_ratings = hist['label'].tolist()\n",
    "\tif u_items == []:\n",
    "\t\tu_items_list.append([(0, 0)])\n",
    "\telse:\n",
    "\t\tu_items_list.append([(iid, rating) for iid, rating in zip(u_items, u_ratings)])\n",
    "\n",
    "train_df = train_df.sort_values(axis = 0, ascending = True, by = 'iid')\n",
    "\n",
    "\"\"\"\n",
    "i_users_list: 存储与每个物品相关联的用户及其评分，没有则为[(0, 0)]\n",
    "\"\"\"\n",
    "for i in tqdm(range(item_count + 1)):\n",
    "\thist = train_df[train_df['iid'] == i]\n",
    "\ti_users = hist['uid'].tolist()\n",
    "\ti_ratings = hist['label'].tolist()\n",
    "\tif i_users == []:\n",
    "\t\ti_users_list.append([(0, 0)])\n",
    "\telse:\n",
    "\t\ti_users_list.append([(uid, rating) for uid, rating in zip(i_users, i_ratings)])"
   ]
  },
  {
   "cell_type": "code",
   "execution_count": 38,
   "metadata": {},
   "outputs": [
    {
     "name": "stderr",
     "output_type": "stream",
     "text": [
      "100%|██████████| 1900654/1900654 [00:00<00:00, 2275399.32it/s]\n"
     ]
    }
   ],
   "source": [
    "trust_f_uid = trust_f['uid'].values.tolist()\n",
    "trust_f_fid = trust_f['fid'].values.tolist()\n",
    "for i in tqdm(range(len(trust_f_uid))):\n",
    "\tuid = trust_f_uid[i]\n",
    "\tfid = trust_f_fid[1]\n",
    "\tif uid > user_count or fid > user_count:\n",
    "\t\tcontinue\n",
    "\ttrust_list.append([uid, fid])\n",
    "\n",
    "trust_df = pd.DataFrame(trust_list, columns = ['uid', 'fid'])\n",
    "trust_df = trust_df.sort_values(axis = 0, ascending = True, by = 'uid')\n"
   ]
  },
  {
   "cell_type": "code",
   "execution_count": 39,
   "metadata": {},
   "outputs": [
    {
     "name": "stderr",
     "output_type": "stream",
     "text": [
      "100%|██████████| 196586/196586 [06:58<00:00, 469.84it/s]\n"
     ]
    }
   ],
   "source": [
    "\"\"\"\n",
    "u_users_list: 存储每个用户互动过的用户uid；\n",
    "u_users_items_list: 存储用户每个朋友的物品iid列表\n",
    "\"\"\"\n",
    "for u in tqdm(range(user_count + 1)):\n",
    "\thist = trust_df[trust_df['uid'] == u]\n",
    "\tu_users = hist['fid'].unique().tolist()\n",
    "\tif u_users == []:\n",
    "\t\tu_users_list.append([0])\n",
    "\t\tu_users_items_list.append([[(0,0)]])\n",
    "\telse:\n",
    "\t\tu_users_list.append(u_users)\n",
    "\t\tuu_items = []\n",
    "\t\tfor uid in u_users:\n",
    "\t\t\tuu_items.append(u_items_list[uid])\n",
    "\t\tu_users_items_list.append(uu_items)"
   ]
  },
  {
   "cell_type": "code",
   "execution_count": null,
   "metadata": {},
   "outputs": [],
   "source": []
  }
 ],
 "metadata": {
  "kernelspec": {
   "display_name": "graphrec",
   "language": "python",
   "name": "python3"
  },
  "language_info": {
   "codemirror_mode": {
    "name": "ipython",
    "version": 3
   },
   "file_extension": ".py",
   "mimetype": "text/x-python",
   "name": "python",
   "nbconvert_exporter": "python",
   "pygments_lexer": "ipython3",
   "version": "3.7.0"
  },
  "orig_nbformat": 4,
  "vscode": {
   "interpreter": {
    "hash": "29430e7361fa8b2e25481ed64059b945d8e0738f669f8fc0f538cd3198737204"
   }
  }
 },
 "nbformat": 4,
 "nbformat_minor": 2
}
