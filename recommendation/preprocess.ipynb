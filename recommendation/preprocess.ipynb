{
 "cells": [
  {
   "cell_type": "code",
   "execution_count": 1,
   "metadata": {},
   "outputs": [
    {
     "name": "stdout",
     "output_type": "stream",
     "text": [
      "INFO: Pandarallel will run on 20 workers.\n",
      "INFO: Pandarallel will use Memory file system to transfer data between the main process and workers.\n"
     ]
    }
   ],
   "source": [
    "import random\n",
    "import numpy as np\n",
    "import pandas as pd\n",
    "from tqdm import tqdm\n",
    "from pandarallel import pandarallel\n",
    "import math\n",
    "random.seed(1234)\n",
    "\n",
    "workdir = '../datasets/'\n",
    "pandarallel.initialize(nb_workers=20)"
   ]
  },
  {
   "cell_type": "code",
   "execution_count": 2,
   "metadata": {},
   "outputs": [],
   "source": [
    "click_f = pd.read_table(workdir + 'Gowalla/Gowalla_totalCheckins.txt', sep='\\t', names=['uid', 'check_time', 'lat', 'lng', 'locid'])\n",
    "trust_f = pd.read_table(workdir + 'Gowalla/Gowalla_edges.txt', sep='\\t', names=['uid', 'fid'])\n",
    "click_f['rating'] = 1\n",
    "#calculate rating by geo voting\n",
    "#calculate rating by geo voting"
   ]
  },
  {
   "cell_type": "code",
   "execution_count": 3,
   "metadata": {},
   "outputs": [],
   "source": [
    "def rating_place(item_uni):\n",
    "    #如果去的地方小于5个，那就按照54321的逆序评分给定分数\n",
    "    #如果去的地方大于5个，按照去的地方个数平分评分\n",
    "    RATING_COUNT = 5\n",
    "    TRANSFER_POSITION = 2\n",
    "    # 2是为了移动索引位置: [2 3 3 4 5 5 0 0] -> [1 1 2 3 3 4 5 5]\n",
    "    rating = np.zeros_like(item_uni, dtype=int)\n",
    "    \n",
    "    if len(item_uni) < RATING_COUNT:\n",
    "        last_item = item_uni[-1] + 1\n",
    "        scores = 6\n",
    "        for i in range(len(rating)):\n",
    "            rating_ind = len(rating) - i - 1\n",
    "            if item_uni[rating_ind] != last_item:\n",
    "                scores = scores - 1\n",
    "                rating[rating_ind] = scores\n",
    "            elif item_uni[rating_ind] == last_item:\n",
    "                rating[rating_ind] = rating[rating_ind + 1]\n",
    "            last_item = item_uni[rating_ind]\n",
    "    if len(item_uni) > RATING_COUNT:\n",
    "        last_ind = 0\n",
    "        for i in range(5):\n",
    "            now_ind = math.floor(i * len(item_uni) / RATING_COUNT) + TRANSFER_POSITION\n",
    "            rating[last_ind:now_ind] = i+1\n",
    "            last_ind = now_ind\n",
    "    return dict(zip(item_uni, rating))"
   ]
  },
  {
   "cell_type": "code",
   "execution_count": 154,
   "metadata": {},
   "outputs": [
    {
     "name": "stdout",
     "output_type": "stream",
     "text": [
      "count, rating\n",
      "去了count item 次的给rating item 分\n",
      "{1: 1, 2: 1, 3: 2, 4: 3, 6: 3, 7: 4, 14: 5, 28: 5}\n"
     ]
    }
   ],
   "source": [
    "example_locid = click_f.loc[click_f['uid']==0]['locid'].tolist()\n",
    "(uniq, freq) = (np.unique(example_locid, return_counts=True))\n",
    "# 定位id及次数\n",
    "(item_uni, freq_uni) = np.unique(freq, return_counts=True)\n",
    "# 次数频率统计\n",
    "dict_rating = rating_place(item_uni)\n",
    "print('count, rating\\n去了count item 次的给rating item 分')\n",
    "print(dict_rating)\n",
    "dict_loctorating = dict(zip(uniq, [dict_rating[v] for v in freq]))"
   ]
  },
  {
   "cell_type": "code",
   "execution_count": 167,
   "metadata": {},
   "outputs": [],
   "source": [
    "click_f.loc[click_f['uid']==0, 'rating'] = click_f.loc[click_f['uid']==0].parallel_apply(lambda r: dict_loctorating[r['locid']], axis=1)"
   ]
  },
  {
   "cell_type": "code",
   "execution_count": 4,
   "metadata": {},
   "outputs": [
    {
     "name": "stderr",
     "output_type": "stream",
     "text": [
      "100%|██████████| 107092/107092 [8:29:54<00:00,  3.50it/s] \n"
     ]
    }
   ],
   "source": [
    "unique_uid = np.unique(click_f['uid'].tolist())\n",
    "\n",
    "for uid_ind in tqdm(range(len(unique_uid))):\n",
    "    uid = unique_uid[uid_ind]\n",
    "    example_locid = click_f.loc[click_f['uid']==uid]['locid'].tolist()\n",
    "    (uniq, freq) = (np.unique(example_locid, return_counts=True))\n",
    "    # 定位id及次数\n",
    "    (item_uni, freq_uni) = np.unique(freq, return_counts=True)\n",
    "    # 次数频率统计\n",
    "    dict_rating = rating_place(item_uni)\n",
    "    dict_loctorating = dict(zip(uniq, [dict_rating[v] for v in freq]))\n",
    "    click_f.loc[click_f['uid']==uid, 'rating'] = click_f.loc[click_f['uid']==uid].parallel_apply(lambda r: dict_loctorating[r['locid']], axis=1)\n",
    "    del dict_loctorating\n",
    "click_f.to_csv('../datasets/Gowalla/Gowalla_rating.csv', index=False)"
   ]
  },
  {
   "cell_type": "code",
   "execution_count": 11,
   "metadata": {},
   "outputs": [],
   "source": [
    "click_f.to_csv('../datasets/Gowalla/Gowalla_rating.csv', index=False)"
   ]
  },
  {
   "cell_type": "code",
   "execution_count": 6,
   "metadata": {},
   "outputs": [],
   "source": [
    "import zipfile, os\n",
    "def file2zip(zip_file_name: str, file_names: list):\n",
    "    with zipfile.ZipFile(zip_file_name, mode='w', compression=zipfile.ZIP_DEFLATED) as zf:\n",
    "        for fn in file_names:\n",
    "            parent_path, name = os.path.split(fn)\n",
    "            zf.write(fn, arcname=name)\n",
    "\n",
    "def zip2file(zip_file_name:str, extract_path: str, members=None, pwd=None):\n",
    "    with zipfile.ZipFile(zip_file_name) as zf:\n",
    "        zf.extractall(extract_path, members=members, pwd=pwd)\n",
    "\n",
    "zip_name = '../datasets/Gowalla/Gowalla_rating.zip'\n",
    "files = ['../datasets/Gowalla/Gowalla_rating.csv']\n",
    "file2zip(zip_name, files)"
   ]
  },
  {
   "cell_type": "code",
   "execution_count": 135,
   "metadata": {},
   "outputs": [],
   "source": [
    "click_list = []\n",
    "trust_list = []\n",
    "\n",
    "u_items_list = []\n",
    "u_users_list = []\n",
    "u_users_items_list = []\n",
    "i_users_list = []\n",
    "\n",
    "user_count = 0\n",
    "item_count = 0\n",
    "rate_count = 0\n"
   ]
  },
  {
   "cell_type": "code",
   "execution_count": null,
   "metadata": {},
   "outputs": [],
   "source": []
  }
 ],
 "metadata": {
  "kernelspec": {
   "display_name": "graphrec",
   "language": "python",
   "name": "python3"
  },
  "language_info": {
   "codemirror_mode": {
    "name": "ipython",
    "version": 3
   },
   "file_extension": ".py",
   "mimetype": "text/x-python",
   "name": "python",
   "nbconvert_exporter": "python",
   "pygments_lexer": "ipython3",
   "version": "3.7.0"
  },
  "orig_nbformat": 4,
  "vscode": {
   "interpreter": {
    "hash": "d2428bf4d8be7f7b0950c7176c1a36cacfdabb1e409e6a38deddaba45d01c73b"
   }
  }
 },
 "nbformat": 4,
 "nbformat_minor": 2
}
